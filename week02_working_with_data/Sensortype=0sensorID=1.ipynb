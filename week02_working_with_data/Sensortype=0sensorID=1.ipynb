{
 "cells": [
  {
   "cell_type": "code",
   "execution_count": 134,
   "metadata": {},
   "outputs": [],
   "source": [
    "import pandas as pd\n",
    "import matplotlib.pyplot as plt\n",
    "from mpl_toolkits.mplot3d import Axes3D\n",
    "from sklearn import preprocessing\n",
    "from sklearn.preprocessing import MinMaxScaler"
   ]
  },
  {
   "cell_type": "code",
   "execution_count": 135,
   "metadata": {},
   "outputs": [
    {
     "name": "stdout",
     "output_type": "stream",
     "text": [
      "<class 'pandas.core.frame.DataFrame'>\n",
      "Int64Index: 300 entries, 2973 to 3272\n",
      "Data columns (total 8 columns):\n",
      "TimeStamp       300 non-null int64\n",
      " Sample No      300 non-null int64\n",
      " X-Axis         300 non-null float64\n",
      " Y-Axis         300 non-null float64\n",
      " Z-Axis         300 non-null float64\n",
      " Sensor Type    300 non-null int64\n",
      " Sensor ID      300 non-null int64\n",
      "                0 non-null float64\n",
      "dtypes: float64(4), int64(4)\n",
      "memory usage: 21.1 KB\n",
      "      TimeStamp    X-Axis    Y-Axis   Sensor Type   Sensor ID\n",
      "2973        172  0.935547 -0.087158             0           1\n",
      "2974        190  0.954102 -0.081543             0           1\n",
      "2975        204  0.954102 -0.081543             0           1\n",
      "2976        212  0.954102 -0.081543             0           1\n",
      "2977        239  0.998535 -0.185303             0           1\n",
      "...         ...       ...       ...           ...         ...\n",
      "3268      14786  0.922363 -0.040527             0           1\n",
      "3269      14830  0.929443 -0.034912             0           1\n",
      "3270      14879  0.919678 -0.040283             0           1\n",
      "3271      14931  0.914062 -0.044434             0           1\n",
      "3272      14978  0.918213 -0.043457             0           1\n",
      "\n",
      "[300 rows x 5 columns]\n"
     ]
    }
   ],
   "source": [
    "alpha = pd.read_csv('/Users/cgarg/Documents/UMAFall_Subject_01_ADL_Bending_1_2016-06-13_20-25-34.csv',delimiter=';')\n",
    "data_slice = alpha[(alpha[' Sensor Type'] == 0) & (alpha[' Sensor ID'] == 1)]\n",
    "df= data_slice.copy()\n",
    "df.info()\n",
    "df.sort_values(by=['TimeStamp'])\n",
    "print(df[['TimeStamp',' X-Axis', ' Y-Axis', ' Sensor Type', ' Sensor ID']]) "
   ]
  },
  {
   "cell_type": "code",
   "execution_count": 136,
   "metadata": {},
   "outputs": [
    {
     "name": "stdout",
     "output_type": "stream",
     "text": [
      "<class 'pandas.core.frame.DataFrame'>\n",
      "Int64Index: 300 entries, 2973 to 3272\n",
      "Data columns (total 8 columns):\n",
      "TimeStamp       300 non-null int64\n",
      " Sample No      300 non-null int64\n",
      " X-Axis         300 non-null float64\n",
      " Y-Axis         300 non-null float64\n",
      " Z-Axis         300 non-null float64\n",
      " Sensor Type    300 non-null int64\n",
      " Sensor ID      300 non-null int64\n",
      "                0 non-null float64\n",
      "dtypes: float64(4), int64(4)\n",
      "memory usage: 21.1 KB\n",
      "RangeIndex(start=0, stop=300, step=1)\n",
      "     TimeStamp    X-Axis    Y-Axis   Sensor Type   Sensor ID\n",
      "0          172  0.935547 -0.087158             0           1\n",
      "1          190  0.954102 -0.081543             0           1\n",
      "2          204  0.954102 -0.081543             0           1\n",
      "3          212  0.954102 -0.081543             0           1\n",
      "4          239  0.998535 -0.185303             0           1\n",
      "..         ...       ...       ...           ...         ...\n",
      "295      14786  0.922363 -0.040527             0           1\n",
      "296      14830  0.929443 -0.034912             0           1\n",
      "297      14879  0.919678 -0.040283             0           1\n",
      "298      14931  0.914062 -0.044434             0           1\n",
      "299      14978  0.918213 -0.043457             0           1\n",
      "\n",
      "[300 rows x 5 columns]\n"
     ]
    }
   ],
   "source": [
    "df.info()\n",
    "df.reset_index(inplace = True)\n",
    "print(df.index)\n",
    "print(df[['TimeStamp',' X-Axis', ' Y-Axis', ' Sensor Type', ' Sensor ID']]) "
   ]
  },
  {
   "cell_type": "code",
   "execution_count": 137,
   "metadata": {},
   "outputs": [
    {
     "name": "stdout",
     "output_type": "stream",
     "text": [
      "    TimeStamp    X-Axis  v-x  Cum-X    Y-Axis  v-y  Cum-Y    Z-Axis  v-z  \\\n",
      "0         172  0.935547    0      0 -0.087158    0      0  0.439453    0   \n",
      "1         190  0.954102    0      0 -0.081543    0      0  0.312256    0   \n",
      "2         204  0.954102    0      0 -0.081543    0      0  0.312256    0   \n",
      "3         212  0.954102    0      0 -0.081543    0      0  0.312256    0   \n",
      "4         239  0.998535    0      0 -0.185303    0      0  0.335205    0   \n",
      "5         290  1.093750    0      0 -0.330322    0      0  0.347900    0   \n",
      "6         341  0.866211    0      0 -0.138916    0      0  0.398438    0   \n",
      "7         396  0.823242    0      0 -0.132080    0      0  0.286865    0   \n",
      "8         434  0.938721    0      0 -0.147705    0      0  0.280273    0   \n",
      "9         483  1.108643    0      0 -0.038574    0      0  0.328369    0   \n",
      "10        532  1.095947    0      0  0.125244    0      0  0.236328    0   \n",
      "11        581  0.979248    0      0  0.165771    0      0  0.149170    0   \n",
      "12        630  1.205811    0      0  0.166260    0      0  0.192627    0   \n",
      "13        679  1.164795    0      0  0.131592    0      0  0.196777    0   \n",
      "14        728  0.976318    0      0  0.077637    0      0  0.215576    0   \n",
      "15        776  0.809082    0      0  0.055908    0      0  0.253662    0   \n",
      "16        829  0.872803    0      0  0.114746    0      0  0.221924    0   \n",
      "17        875  1.130371    0      0  0.054443    0      0  0.322021    0   \n",
      "18        924  1.064941    0      0  0.065186    0      0  0.334717    0   \n",
      "19        971  0.934326    0      0  0.083252    0      0  0.248047    0   \n",
      "20       1023  0.934326    0      0  0.067871    0      0  0.246094    0   \n",
      "21       1070  1.006592    0      0  0.017090    0      0  0.323486    0   \n",
      "22       1119  0.910156    0      0 -0.089844    0      0  0.227783    0   \n",
      "23       1167  0.924316    0      0 -0.031494    0      0  0.240479    0   \n",
      "24       1216  1.028564    0      0 -0.084717    0      0  0.257080    0   \n",
      "25       1264  0.909668    0      0 -0.041504    0      0  0.264893    0   \n",
      "26       1312  0.944336    0      0 -0.074951    0      0  0.194336    0   \n",
      "27       1361  0.897217    0      0  0.022461    0      0  0.054688    0   \n",
      "28       1410  0.849854    0      0  0.011963    0      0  0.026367    0   \n",
      "29       1466  0.913086    0      0 -0.040283    0      0  0.069580    0   \n",
      "\n",
      "    Cum-Z  \n",
      "0       0  \n",
      "1       0  \n",
      "2       0  \n",
      "3       0  \n",
      "4       0  \n",
      "5       0  \n",
      "6       0  \n",
      "7       0  \n",
      "8       0  \n",
      "9       0  \n",
      "10      0  \n",
      "11      0  \n",
      "12      0  \n",
      "13      0  \n",
      "14      0  \n",
      "15      0  \n",
      "16      0  \n",
      "17      0  \n",
      "18      0  \n",
      "19      0  \n",
      "20      0  \n",
      "21      0  \n",
      "22      0  \n",
      "23      0  \n",
      "24      0  \n",
      "25      0  \n",
      "26      0  \n",
      "27      0  \n",
      "28      0  \n",
      "29      0  \n"
     ]
    }
   ],
   "source": [
    "# df.loc[df['v-x'] = 0]\n",
    "df['v-x'] = 0\n",
    "df['v-y'] = 0\n",
    "df['v-z'] = 0\n",
    "df['Cum-X'] = 0\n",
    "df['Cum-Y'] = 0\n",
    "df['Cum-Z'] = 0\n",
    "print(df[['TimeStamp',' X-Axis', 'v-x', 'Cum-X',' Y-Axis', 'v-y', 'Cum-Y',' Z-Axis', 'v-z', 'Cum-Z']].head(30))"
   ]
  },
  {
   "cell_type": "code",
   "execution_count": 138,
   "metadata": {},
   "outputs": [
    {
     "name": "stdout",
     "output_type": "stream",
     "text": [
      "     TimeStamp    X-Axis            v-x         Cum-X    Y-Axis           v-y  \\\n",
      "0          172  0.935547       0.000000  0.000000e+00 -0.087158      0.000000   \n",
      "1          190  0.954102     165.198867  2.973580e+03 -0.081543    -15.390396   \n",
      "2          204  0.954102     296.235176  7.120872e+03 -0.081543    -26.589507   \n",
      "3          212  0.954102     371.113066  1.008978e+04 -0.081543    -32.988999   \n",
      "4          239  0.998535     623.825947  2.693308e+04 -0.185303    -54.587285   \n",
      "..         ...       ...            ...           ...       ...           ...   \n",
      "295      14786  0.922363  131831.926897  9.609606e+08 -0.040527  -9992.476538   \n",
      "296      14830  0.929443  132230.055784  9.667787e+08 -0.034912 -10009.969761   \n",
      "297      14879  0.919678  132676.829912  9.732798e+08 -0.040283 -10026.751663   \n",
      "298      14931  0.914062  133145.975918  9.802034e+08 -0.044434 -10047.300930   \n",
      "299      14978  0.918213  133567.422715  9.864811e+08 -0.043457 -10067.787927   \n",
      "\n",
      "            Cum-Y    Z-Axis           v-z         Cum-Z  \n",
      "0    0.000000e+00  0.439453      0.000000  0.000000e+00  \n",
      "1   -2.770271e+02  0.312256     77.598633  1.396775e+03  \n",
      "2   -6.492802e+02  0.312256    120.483853  3.083549e+03  \n",
      "3   -9.131922e+02  0.312256    144.989692  4.243467e+03  \n",
      "4   -2.387049e+03  0.335205    227.696902  1.039128e+04  \n",
      "..            ...       ...           ...           ...  \n",
      "295 -7.237470e+07  0.423828  27970.530183  5.320253e+07  \n",
      "296 -7.281514e+07  0.428467  28153.471355  5.444128e+07  \n",
      "297 -7.330645e+07  0.437012  28359.431060  5.583089e+07  \n",
      "298 -7.382891e+07  0.426514  28582.359478  5.731718e+07  \n",
      "299 -7.430210e+07  0.431885  28779.012136  5.866979e+07  \n",
      "\n",
      "[300 rows x 10 columns]\n"
     ]
    }
   ],
   "source": [
    "for i in range(1, len(df)): \n",
    "    df.loc[i, 'v-x'] = df.loc[i-1, 'v-x'] + (df.loc[i-1, ' X-Axis'] * 9.81* (df.loc[i, 'TimeStamp'] - df.loc[i-1, 'TimeStamp']))\n",
    "    df.loc[i, 'Cum-X'] = df.loc[i-1, 'Cum-X'] + (df.loc[i, 'v-x'] * (df.loc[i, 'TimeStamp'] - df.loc[i-1, 'TimeStamp']))\n",
    "    df.loc[i, 'v-y'] = df.loc[i-1, 'v-y'] + (df.loc[i-1, ' Y-Axis'] * 9.81* (df.loc[i, 'TimeStamp'] - df.loc[i-1, 'TimeStamp']))\n",
    "    df.loc[i, 'Cum-Y'] = df.loc[i-1, 'Cum-Y'] + (df.loc[i, 'v-y'] * (df.loc[i, 'TimeStamp'] - df.loc[i-1, 'TimeStamp']))\n",
    "    df.loc[i, 'v-z'] = df.loc[i-1, 'v-z'] + (df.loc[i-1, ' Z-Axis'] * 9.81* (df.loc[i, 'TimeStamp'] - df.loc[i-1, 'TimeStamp']))\n",
    "    df.loc[i, 'Cum-Z'] = df.loc[i-1, 'Cum-Z'] + (df.loc[i, 'v-z'] * (df.loc[i, 'TimeStamp'] - df.loc[i-1, 'TimeStamp']))\n",
    "\n",
    "\n",
    "print(df[['TimeStamp',' X-Axis', 'v-x', 'Cum-X',' Y-Axis', 'v-y', 'Cum-Y',' Z-Axis', 'v-z', 'Cum-Z']])"
   ]
  },
  {
   "cell_type": "code",
   "execution_count": 139,
   "metadata": {},
   "outputs": [
    {
     "name": "stdout",
     "output_type": "stream",
     "text": [
      "     index  TimeStamp   Sample No    X-Axis    Y-Axis    Z-Axis   Sensor Type  \\\n",
      "0     2973        172           0  0.935547 -0.087158  0.439453             0   \n",
      "1     2974        190           1  0.954102 -0.081543  0.312256             0   \n",
      "2     2975        204           2  0.954102 -0.081543  0.312256             0   \n",
      "3     2976        212           3  0.954102 -0.081543  0.312256             0   \n",
      "4     2977        239           4  0.998535 -0.185303  0.335205             0   \n",
      "..     ...        ...         ...       ...       ...       ...           ...   \n",
      "295   3268      14786         295  0.922363 -0.040527  0.423828             0   \n",
      "296   3269      14830         296  0.929443 -0.034912  0.428467             0   \n",
      "297   3270      14879         297  0.919678 -0.040283  0.437012             0   \n",
      "298   3271      14931         298  0.914062 -0.044434  0.426514             0   \n",
      "299   3272      14978         299  0.918213 -0.043457  0.431885             0   \n",
      "\n",
      "      Sensor ID                          v-x           v-y           v-z  \\\n",
      "0             1           NaN       0.000000      0.000000      0.000000   \n",
      "1             1           NaN     165.198867    -15.390396     77.598633   \n",
      "2             1           NaN     296.235176    -26.589507    120.483853   \n",
      "3             1           NaN     371.113066    -32.988999    144.989692   \n",
      "4             1           NaN     623.825947    -54.587285    227.696902   \n",
      "..          ...           ...            ...           ...           ...   \n",
      "295           1           NaN  131831.926897  -9992.476538  27970.530183   \n",
      "296           1           NaN  132230.055784 -10009.969761  28153.471355   \n",
      "297           1           NaN  132676.829912 -10026.751663  28359.431060   \n",
      "298           1           NaN  133145.975918 -10047.300930  28582.359478   \n",
      "299           1           NaN  133567.422715 -10067.787927  28779.012136   \n",
      "\n",
      "        Cum-X     Cum-Y         Cum-Z  \n",
      "0    0.000000  1.000000  0.000000e+00  \n",
      "1    0.000003  0.999996  1.396775e+03  \n",
      "2    0.000007  0.999991  3.083549e+03  \n",
      "3    0.000010  0.999988  4.243467e+03  \n",
      "4    0.000027  0.999968  1.039128e+04  \n",
      "..        ...       ...           ...  \n",
      "295  0.974130  0.025940  5.320253e+07  \n",
      "296  0.980028  0.020012  5.444128e+07  \n",
      "297  0.986618  0.013400  5.583089e+07  \n",
      "298  0.993636  0.006368  5.731718e+07  \n",
      "299  1.000000  0.000000  5.866979e+07  \n",
      "\n",
      "[300 rows x 15 columns]\n"
     ]
    },
    {
     "data": {
      "text/plain": [
       "<matplotlib.axes._subplots.AxesSubplot at 0x1358b6610>"
      ]
     },
     "execution_count": 139,
     "metadata": {},
     "output_type": "execute_result"
    },
    {
     "data": {
      "image/png": "[encoded data removed]",
      "text/plain": [
       "<Figure size 432x288 with 1 Axes>"
      ]
     },
     "metadata": {
      "needs_background": "light"
     },
     "output_type": "display_data"
    }
   ],
   "source": [
    "scaler = MinMaxScaler()\n",
    "df[['Cum-X', 'Cum-Y']] = scaler.fit_transform(df[['Cum-X', 'Cum-Y']])\n",
    "print(df)\n",
    "df.plot(kind='scatter',x='Cum-X',y='Cum-Y',color='blue')"
   ]
  },
  {
   "cell_type": "code",
   "execution_count": 140,
   "metadata": {},
   "outputs": [
    {
     "name": "stdout",
     "output_type": "stream",
     "text": [
      "     index  TimeStamp   Sample No    X-Axis    Y-Axis    Z-Axis   Sensor Type  \\\n",
      "0     2973        172           0  0.935547 -0.087158  0.439453             0   \n",
      "1     2974        190           1  0.954102 -0.081543  0.312256             0   \n",
      "2     2975        204           2  0.954102 -0.081543  0.312256             0   \n",
      "3     2976        212           3  0.954102 -0.081543  0.312256             0   \n",
      "4     2977        239           4  0.998535 -0.185303  0.335205             0   \n",
      "..     ...        ...         ...       ...       ...       ...           ...   \n",
      "295   3268      14786         295  0.922363 -0.040527  0.423828             0   \n",
      "296   3269      14830         296  0.929443 -0.034912  0.428467             0   \n",
      "297   3270      14879         297  0.919678 -0.040283  0.437012             0   \n",
      "298   3271      14931         298  0.914062 -0.044434  0.426514             0   \n",
      "299   3272      14978         299  0.918213 -0.043457  0.431885             0   \n",
      "\n",
      "      Sensor ID                          v-x           v-y           v-z  \\\n",
      "0             1           NaN       0.000000      0.000000      0.000000   \n",
      "1             1           NaN     165.198867    -15.390396     77.598633   \n",
      "2             1           NaN     296.235176    -26.589507    120.483853   \n",
      "3             1           NaN     371.113066    -32.988999    144.989692   \n",
      "4             1           NaN     623.825947    -54.587285    227.696902   \n",
      "..          ...           ...            ...           ...           ...   \n",
      "295           1           NaN  131831.926897  -9992.476538  27970.530183   \n",
      "296           1           NaN  132230.055784 -10009.969761  28153.471355   \n",
      "297           1           NaN  132676.829912 -10026.751663  28359.431060   \n",
      "298           1           NaN  133145.975918 -10047.300930  28582.359478   \n",
      "299           1           NaN  133567.422715 -10067.787927  28779.012136   \n",
      "\n",
      "        Cum-X     Cum-Y     Cum-Z  \n",
      "0    0.000000  1.000000  0.406620  \n",
      "1    0.000003  0.999996  0.406634  \n",
      "2    0.000007  0.999991  0.406651  \n",
      "3    0.000010  0.999988  0.406663  \n",
      "4    0.000027  0.999968  0.406725  \n",
      "..        ...       ...       ...  \n",
      "295  0.974130  0.025940  0.944705  \n",
      "296  0.980028  0.020012  0.957233  \n",
      "297  0.986618  0.013400  0.971288  \n",
      "298  0.993636  0.006368  0.986320  \n",
      "299  1.000000  0.000000  1.000000  \n",
      "\n",
      "[300 rows x 15 columns]\n"
     ]
    },
    {
     "data": {
      "text/plain": [
       "<matplotlib.axes._subplots.AxesSubplot at 0x13551f820>"
      ]
     },
     "execution_count": 140,
     "metadata": {},
     "output_type": "execute_result"
    },
    {
     "data": {
      "image/png": "[encoded data removed]",
      "text/plain": [
       "<Figure size 432x288 with 1 Axes>"
      ]
     },
     "metadata": {
      "needs_background": "light"
     },
     "output_type": "display_data"
    }
   ],
   "source": [
    "scaler = MinMaxScaler()\n",
    "df[['Cum-Y', 'Cum-Z']] = scaler.fit_transform(df[['Cum-Y', 'Cum-Z']])\n",
    "print(df)\n",
    "df.plot(kind='scatter',x='Cum-Y',y='Cum-Z',color='blue')"
   ]
  },
  {
   "cell_type": "code",
   "execution_count": 141,
   "metadata": {},
   "outputs": [
    {
     "name": "stdout",
     "output_type": "stream",
     "text": [
      "     index  TimeStamp   Sample No    X-Axis    Y-Axis    Z-Axis   Sensor Type  \\\n",
      "0     2973        172           0  0.935547 -0.087158  0.439453             0   \n",
      "1     2974        190           1  0.954102 -0.081543  0.312256             0   \n",
      "2     2975        204           2  0.954102 -0.081543  0.312256             0   \n",
      "3     2976        212           3  0.954102 -0.081543  0.312256             0   \n",
      "4     2977        239           4  0.998535 -0.185303  0.335205             0   \n",
      "..     ...        ...         ...       ...       ...       ...           ...   \n",
      "295   3268      14786         295  0.922363 -0.040527  0.423828             0   \n",
      "296   3269      14830         296  0.929443 -0.034912  0.428467             0   \n",
      "297   3270      14879         297  0.919678 -0.040283  0.437012             0   \n",
      "298   3271      14931         298  0.914062 -0.044434  0.426514             0   \n",
      "299   3272      14978         299  0.918213 -0.043457  0.431885             0   \n",
      "\n",
      "      Sensor ID                          v-x           v-y           v-z  \\\n",
      "0             1           NaN       0.000000      0.000000      0.000000   \n",
      "1             1           NaN     165.198867    -15.390396     77.598633   \n",
      "2             1           NaN     296.235176    -26.589507    120.483853   \n",
      "3             1           NaN     371.113066    -32.988999    144.989692   \n",
      "4             1           NaN     623.825947    -54.587285    227.696902   \n",
      "..          ...           ...            ...           ...           ...   \n",
      "295           1           NaN  131831.926897  -9992.476538  27970.530183   \n",
      "296           1           NaN  132230.055784 -10009.969761  28153.471355   \n",
      "297           1           NaN  132676.829912 -10026.751663  28359.431060   \n",
      "298           1           NaN  133145.975918 -10047.300930  28582.359478   \n",
      "299           1           NaN  133567.422715 -10067.787927  28779.012136   \n",
      "\n",
      "        Cum-X     Cum-Y     Cum-Z  \n",
      "0    0.000000  1.000000  0.406620  \n",
      "1    0.000003  0.999996  0.406634  \n",
      "2    0.000007  0.999991  0.406651  \n",
      "3    0.000010  0.999988  0.406663  \n",
      "4    0.000027  0.999968  0.406725  \n",
      "..        ...       ...       ...  \n",
      "295  0.974130  0.025940  0.944705  \n",
      "296  0.980028  0.020012  0.957233  \n",
      "297  0.986618  0.013400  0.971288  \n",
      "298  0.993636  0.006368  0.986320  \n",
      "299  1.000000  0.000000  1.000000  \n",
      "\n",
      "[300 rows x 15 columns]\n"
     ]
    },
    {
     "data": {
      "text/plain": [
       "<matplotlib.axes._subplots.AxesSubplot at 0x135571220>"
      ]
     },
     "execution_count": 141,
     "metadata": {},
     "output_type": "execute_result"
    },
    {
     "data": {
      "image/png": "[encoded data removed]",
      "text/plain": [
       "<Figure size 432x288 with 1 Axes>"
      ]
     },
     "metadata": {
      "needs_background": "light"
     },
     "output_type": "display_data"
    }
   ],
   "source": [
    "scaler = MinMaxScaler()\n",
    "df[['Cum-X', 'Cum-Z']] = scaler.fit_transform(df[['Cum-X', 'Cum-Z']])\n",
    "print(df)\n",
    "df.plot(kind='scatter',x='Cum-X',y='Cum-Z',color='blue')"
   ]
  },
  {
   "cell_type": "code",
   "execution_count": 142,
   "metadata": {},
   "outputs": [
    {
     "data": {
      "image/png": "[encoded data removed]",
      "text/plain": [
       "<Figure size 432x288 with 1 Axes>"
      ]
     },
     "metadata": {
      "needs_background": "light"
     },
     "output_type": "display_data"
    }
   ],
   "source": [
    "threedee = plt.figure().gca(projection='3d')\n",
    "threedee.scatter(df['Cum-X'], df['Cum-Y'], df['Cum-Z'])\n",
    "threedee.set_xlabel('Cum-X')\n",
    "threedee.set_ylabel('Cum-Y')\n",
    "threedee.set_zlabel('Cum-Z')\n",
    "plt.show()"
   ]
  },
  {
   "cell_type": "code",
   "execution_count": null,
   "metadata": {},
   "outputs": [],
   "source": []
  }
 ],
 "metadata": {
  "kernelspec": {
   "display_name": "Python 3",
   "language": "python",
   "name": "python3"
  },
  "language_info": {
   "codemirror_mode": {
    "name": "ipython",
    "version": 3
   },
   "file_extension": ".py",
   "mimetype": "text/x-python",
   "name": "python",
   "nbconvert_exporter": "python",
   "pygments_lexer": "ipython3",
   "version": "3.8.1"
  }
 },
 "nbformat": 4,
 "nbformat_minor": 4
}
